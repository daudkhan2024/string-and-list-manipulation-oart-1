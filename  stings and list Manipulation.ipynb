{
 "cells": [
  {
   "cell_type": "markdown",
   "id": "dc124d93",
   "metadata": {},
   "source": [
    "+ inbult methods press .tab   it will pop\n",
    "+ strings are immutable\n",
    "+ list are mutable\n",
    "+we can not concatenate a string with int\n",
    " we have to do type casting"
   ]
  },
  {
   "cell_type": "code",
   "execution_count": 1,
   "id": "d8d8ea95",
   "metadata": {},
   "outputs": [],
   "source": [
    "a = \"khan\""
   ]
  },
  {
   "cell_type": "code",
   "execution_count": 2,
   "id": "cf953b2f",
   "metadata": {},
   "outputs": [
    {
     "data": {
      "text/plain": [
       "'khan'"
      ]
     },
     "execution_count": 2,
     "metadata": {},
     "output_type": "execute_result"
    }
   ],
   "source": [
    "a"
   ]
  },
  {
   "cell_type": "code",
   "execution_count": 3,
   "id": "f328f2a4",
   "metadata": {},
   "outputs": [],
   "source": [
    "b = \"this is my assingment of sting and list manipulation\""
   ]
  },
  {
   "cell_type": "code",
   "execution_count": 4,
   "id": "e63377e4",
   "metadata": {},
   "outputs": [
    {
     "data": {
      "text/plain": [
       "'this is my assingment of sting and list manipulation'"
      ]
     },
     "execution_count": 4,
     "metadata": {},
     "output_type": "execute_result"
    }
   ],
   "source": [
    "b"
   ]
  },
  {
   "cell_type": "code",
   "execution_count": 7,
   "id": "c2725f39",
   "metadata": {},
   "outputs": [
    {
     "data": {
      "text/plain": [
       "'n'"
      ]
     },
     "execution_count": 7,
     "metadata": {},
     "output_type": "execute_result"
    }
   ],
   "source": [
    "a[3] # the stings are store in form of indexing so \"n\"is \n",
    "#on \"3\"index so it print \"n\""
   ]
  },
  {
   "cell_type": "code",
   "execution_count": 9,
   "id": "b5ac73e0",
   "metadata": {},
   "outputs": [
    {
     "data": {
      "text/plain": [
       "'n'"
      ]
     },
     "execution_count": 9,
     "metadata": {},
     "output_type": "execute_result"
    }
   ],
   "source": [
    "b[-1]#negative shows it from reverse direction"
   ]
  },
  {
   "cell_type": "code",
   "execution_count": 12,
   "id": "64bb9dba",
   "metadata": {},
   "outputs": [
    {
     "data": {
      "text/plain": [
       "52"
      ]
     },
     "execution_count": 12,
     "metadata": {},
     "output_type": "execute_result"
    }
   ],
   "source": [
    "len(b)#len function show overall total lenght of a string here"
   ]
  },
  {
   "cell_type": "code",
   "execution_count": 17,
   "id": "19e80a54",
   "metadata": {},
   "outputs": [
    {
     "data": {
      "text/plain": [
       "' is my assingmen'"
      ]
     },
     "execution_count": 17,
     "metadata": {},
     "output_type": "execute_result"
    }
   ],
   "source": [
    "b[4:20] #here i give starting \"4\"and end point\"20\" location"
   ]
  },
  {
   "cell_type": "code",
   "execution_count": 19,
   "id": "c399fcd0",
   "metadata": {},
   "outputs": [
    {
     "data": {
      "text/plain": [
       "' is my assingmen'"
      ]
     },
     "execution_count": 19,
     "metadata": {},
     "output_type": "execute_result"
    }
   ],
   "source": [
    "b[4:20]# by default step size is positive 1"
   ]
  },
  {
   "cell_type": "code",
   "execution_count": 21,
   "id": "019b5a89",
   "metadata": {},
   "outputs": [
    {
     "data": {
      "text/plain": [
       "''"
      ]
     },
     "execution_count": 21,
     "metadata": {},
     "output_type": "execute_result"
    }
   ],
   "source": [
    "b[-1:-10:1]# because there is a conflict so it show blank "
   ]
  },
  {
   "cell_type": "code",
   "execution_count": 25,
   "id": "c9ea955b",
   "metadata": {},
   "outputs": [
    {
     "data": {
      "text/plain": [
       "'his is my assingment of sting and list ma'"
      ]
     },
     "execution_count": 25,
     "metadata": {},
     "output_type": "execute_result"
    }
   ],
   "source": [
    "b[1:-10:1]# here it went fom \"1\"to \"-10\"excluding -10"
   ]
  },
  {
   "cell_type": "markdown",
   "id": "9a959732",
   "metadata": {},
   "source": [
    "+ now lets use forloop"
   ]
  },
  {
   "cell_type": "code",
   "execution_count": 29,
   "id": "7223e9e6",
   "metadata": {},
   "outputs": [
    {
     "data": {
      "text/plain": [
       "'this is my assingment of sting and list manipulation'"
      ]
     },
     "execution_count": 29,
     "metadata": {},
     "output_type": "execute_result"
    }
   ],
   "source": [
    "b"
   ]
  },
  {
   "cell_type": "code",
   "execution_count": 32,
   "id": "2ec4b280",
   "metadata": {},
   "outputs": [
    {
     "name": "stdout",
     "output_type": "stream",
     "text": [
      "t\n",
      "h\n",
      "i\n",
      "s\n",
      " \n",
      "i\n",
      "s\n",
      " \n",
      "m\n",
      "y\n",
      " \n",
      "a\n",
      "s\n",
      "s\n",
      "i\n",
      "n\n",
      "g\n",
      "m\n",
      "e\n",
      "n\n",
      "t\n",
      " \n",
      "o\n",
      "f\n",
      " \n",
      "s\n",
      "t\n",
      "i\n",
      "n\n",
      "g\n",
      " \n",
      "a\n",
      "n\n",
      "d\n",
      " \n",
      "l\n",
      "i\n",
      "s\n",
      "t\n",
      " \n",
      "m\n",
      "a\n",
      "n\n",
      "i\n",
      "p\n",
      "u\n",
      "l\n",
      "a\n",
      "t\n",
      "i\n",
      "o\n",
      "n\n"
     ]
    }
   ],
   "source": [
    "for i in b :\n",
    "    print(i)"
   ]
  },
  {
   "cell_type": "markdown",
   "id": "e934e02e",
   "metadata": {},
   "source": [
    "###### we can use range function as well"
   ]
  },
  {
   "cell_type": "code",
   "execution_count": 35,
   "id": "87ba201d",
   "metadata": {},
   "outputs": [
    {
     "name": "stdout",
     "output_type": "stream",
     "text": [
      "t\n",
      "h\n",
      "i\n",
      "s\n",
      " \n",
      "i\n",
      "s\n",
      " \n",
      "m\n",
      "y\n",
      " \n",
      "a\n",
      "s\n",
      "s\n",
      "i\n",
      "n\n",
      "g\n",
      "m\n",
      "e\n",
      "n\n",
      "t\n",
      " \n",
      "o\n",
      "f\n",
      " \n",
      "s\n",
      "t\n",
      "i\n",
      "n\n",
      "g\n",
      " \n",
      "a\n",
      "n\n",
      "d\n",
      " \n",
      "l\n",
      "i\n",
      "s\n",
      "t\n",
      " \n",
      "m\n",
      "a\n",
      "n\n",
      "i\n",
      "p\n",
      "u\n",
      "l\n",
      "a\n",
      "t\n",
      "i\n",
      "o\n",
      "n\n"
     ]
    }
   ],
   "source": [
    "for i in range(len(b)):\n",
    "    print(b[i])"
   ]
  },
  {
   "cell_type": "code",
   "execution_count": 37,
   "id": "897acd80",
   "metadata": {},
   "outputs": [
    {
     "data": {
      "text/plain": [
       "'noitalupinam tsil dna gnits fo tnemgnissa ym si siht'"
      ]
     },
     "execution_count": 37,
     "metadata": {},
     "output_type": "execute_result"
    }
   ],
   "source": [
    "b[: :-1] # the simplest way for reversing"
   ]
  },
  {
   "cell_type": "code",
   "execution_count": 41,
   "id": "429e85e9",
   "metadata": {},
   "outputs": [],
   "source": [
    "c = \"this is full stak Data Scientist\""
   ]
  },
  {
   "cell_type": "code",
   "execution_count": 42,
   "id": "c705d000",
   "metadata": {},
   "outputs": [
    {
     "data": {
      "text/plain": [
       "'this is full stak Data Scientist'"
      ]
     },
     "execution_count": 42,
     "metadata": {},
     "output_type": "execute_result"
    }
   ],
   "source": [
    "c"
   ]
  },
  {
   "cell_type": "code",
   "execution_count": 43,
   "id": "7bcfe554",
   "metadata": {},
   "outputs": [
    {
     "data": {
      "text/plain": [
       "'t'"
      ]
     },
     "execution_count": 43,
     "metadata": {},
     "output_type": "execute_result"
    }
   ],
   "source": [
    "c[0]"
   ]
  },
  {
   "cell_type": "code",
   "execution_count": 52,
   "id": "9739bd73",
   "metadata": {},
   "outputs": [
    {
     "ename": "TypeError",
     "evalue": "'str' object does not support item assignment",
     "output_type": "error",
     "traceback": [
      "\u001b[0;31m---------------------------------------------------------------------------\u001b[0m",
      "\u001b[0;31mTypeError\u001b[0m                                 Traceback (most recent call last)",
      "Input \u001b[0;32mIn [52]\u001b[0m, in \u001b[0;36m<cell line: 1>\u001b[0;34m()\u001b[0m\n\u001b[0;32m----> 1\u001b[0m c[\u001b[38;5;241m0\u001b[39m]\u001b[38;5;241m=\u001b[39m \u001b[38;5;124m\"\u001b[39m\u001b[38;5;124mh\u001b[39m\u001b[38;5;124m\"\u001b[39m\n",
      "\u001b[0;31mTypeError\u001b[0m: 'str' object does not support item assignment"
     ]
    }
   ],
   "source": [
    "c[0]= \"h\" #here we want to change \"t\"so it not woking\n",
    "#string is immutable , we can not replace one character with other in strings\n",
    "#we can not assign a character on indexing "
   ]
  },
  {
   "cell_type": "code",
   "execution_count": 46,
   "id": "db81a29d",
   "metadata": {},
   "outputs": [],
   "source": [
    "l = [\"khan\",343,False]"
   ]
  },
  {
   "cell_type": "code",
   "execution_count": 47,
   "id": "a429cb79",
   "metadata": {},
   "outputs": [
    {
     "data": {
      "text/plain": [
       "'khan'"
      ]
     },
     "execution_count": 47,
     "metadata": {},
     "output_type": "execute_result"
    }
   ],
   "source": [
    "l[0]"
   ]
  },
  {
   "cell_type": "code",
   "execution_count": 48,
   "id": "31ce038d",
   "metadata": {},
   "outputs": [],
   "source": [
    "l[0]= \"shayan\""
   ]
  },
  {
   "cell_type": "code",
   "execution_count": 50,
   "id": "aaa05a5b",
   "metadata": {},
   "outputs": [
    {
     "data": {
      "text/plain": [
       "['shayan', 343, False]"
      ]
     },
     "execution_count": 50,
     "metadata": {},
     "output_type": "execute_result"
    }
   ],
   "source": [
    "l #here we saw that in list we can change it thatas why it is mutable"
   ]
  },
  {
   "cell_type": "markdown",
   "id": "026be449",
   "metadata": {},
   "source": [
    "concatination"
   ]
  },
  {
   "cell_type": "code",
   "execution_count": 55,
   "id": "760fea0c",
   "metadata": {},
   "outputs": [
    {
     "data": {
      "text/plain": [
       "'shayankhan'"
      ]
     },
     "execution_count": 55,
     "metadata": {},
     "output_type": "execute_result"
    }
   ],
   "source": [
    "\"shayan\"+\"khan\""
   ]
  },
  {
   "cell_type": "code",
   "execution_count": 57,
   "id": "7c91e66b",
   "metadata": {},
   "outputs": [
    {
     "ename": "TypeError",
     "evalue": "can only concatenate str (not \"int\") to str",
     "output_type": "error",
     "traceback": [
      "\u001b[0;31m---------------------------------------------------------------------------\u001b[0m",
      "\u001b[0;31mTypeError\u001b[0m                                 Traceback (most recent call last)",
      "Input \u001b[0;32mIn [57]\u001b[0m, in \u001b[0;36m<cell line: 1>\u001b[0;34m()\u001b[0m\n\u001b[0;32m----> 1\u001b[0m \u001b[38;5;124;43m\"\u001b[39;49m\u001b[38;5;124;43mshayan\u001b[39;49m\u001b[38;5;124;43m\"\u001b[39;49m\u001b[38;5;241;43m+\u001b[39;49m\u001b[38;5;241;43m1\u001b[39;49m\n",
      "\u001b[0;31mTypeError\u001b[0m: can only concatenate str (not \"int\") to str"
     ]
    }
   ],
   "source": [
    "\"shayan\"+1 # we can not concatenate a string with int\n",
    "# we have to do type casting"
   ]
  },
  {
   "cell_type": "code",
   "execution_count": 60,
   "id": "24779dbd",
   "metadata": {},
   "outputs": [
    {
     "data": {
      "text/plain": [
       "'shayan1'"
      ]
     },
     "execution_count": 60,
     "metadata": {},
     "output_type": "execute_result"
    }
   ],
   "source": [
    "\"shayan\"+str(1) #this is called type casting"
   ]
  },
  {
   "cell_type": "code",
   "execution_count": 62,
   "id": "ffbedcf7",
   "metadata": {},
   "outputs": [
    {
     "ename": "TypeError",
     "evalue": "can only concatenate str (not \"list\") to str",
     "output_type": "error",
     "traceback": [
      "\u001b[0;31m---------------------------------------------------------------------------\u001b[0m",
      "\u001b[0;31mTypeError\u001b[0m                                 Traceback (most recent call last)",
      "Input \u001b[0;32mIn [62]\u001b[0m, in \u001b[0;36m<cell line: 1>\u001b[0;34m()\u001b[0m\n\u001b[0;32m----> 1\u001b[0m \u001b[38;5;124;43m\"\u001b[39;49m\u001b[38;5;124;43mshayan\u001b[39;49m\u001b[38;5;124;43m\"\u001b[39;49m\u001b[43m \u001b[49m\u001b[38;5;241;43m+\u001b[39;49m\u001b[43m \u001b[49m\u001b[43m[\u001b[49m\u001b[38;5;124;43m\"\u001b[39;49m\u001b[38;5;124;43mkhan,2,3\u001b[39;49m\u001b[38;5;124;43m\"\u001b[39;49m\u001b[43m]\u001b[49m\n",
      "\u001b[0;31mTypeError\u001b[0m: can only concatenate str (not \"list\") to str"
     ]
    }
   ],
   "source": [
    "\"shayan\" + [\"khan,2,3\"]# we can only concatenate str to str"
   ]
  },
  {
   "cell_type": "code",
   "execution_count": 64,
   "id": "c7baa210",
   "metadata": {},
   "outputs": [
    {
     "data": {
      "text/plain": [
       "'khankhankhankhankhankhankhan'"
      ]
     },
     "execution_count": 64,
     "metadata": {},
     "output_type": "execute_result"
    }
   ],
   "source": [
    "\"khan\"*7"
   ]
  },
  {
   "cell_type": "code",
   "execution_count": 75,
   "id": "0da96279",
   "metadata": {},
   "outputs": [
    {
     "data": {
      "text/plain": [
       "0"
      ]
     },
     "execution_count": 75,
     "metadata": {},
     "output_type": "execute_result"
    }
   ],
   "source": [
    "b = \"my name is khan \"\n",
    "b.find(\"m\")"
   ]
  },
  {
   "cell_type": "code",
   "execution_count": 76,
   "id": "a5ff06b4",
   "metadata": {},
   "outputs": [
    {
     "data": {
      "text/plain": [
       "-1"
      ]
     },
     "execution_count": 76,
     "metadata": {},
     "output_type": "execute_result"
    }
   ],
   "source": [
    "b.find(\"kjhkh\")# its not avalible so it will not give error but it will\n",
    "#show -1"
   ]
  },
  {
   "cell_type": "code",
   "execution_count": 77,
   "id": "edd39877",
   "metadata": {},
   "outputs": [
    {
     "data": {
      "text/plain": [
       "0"
      ]
     },
     "execution_count": 77,
     "metadata": {},
     "output_type": "execute_result"
    }
   ],
   "source": [
    "b.find(\"my\")"
   ]
  },
  {
   "cell_type": "code",
   "execution_count": 78,
   "id": "d7a20f7b",
   "metadata": {},
   "outputs": [
    {
     "data": {
      "text/plain": [
       "3"
      ]
     },
     "execution_count": 78,
     "metadata": {},
     "output_type": "execute_result"
    }
   ],
   "source": [
    "b.find(\"name\")"
   ]
  },
  {
   "cell_type": "code",
   "execution_count": 84,
   "id": "6ab79766",
   "metadata": {},
   "outputs": [],
   "source": [
    "# Find the index location of name"
   ]
  },
  {
   "cell_type": "code",
   "execution_count": 102,
   "id": "7784ce7b",
   "metadata": {},
   "outputs": [
    {
     "name": "stdout",
     "output_type": "stream",
     "text": [
      "3\n",
      "4\n",
      "5\n",
      "6\n"
     ]
    }
   ],
   "source": [
    "for i in range(len(\"name\")):\n",
    "    print(b+i)"
   ]
  },
  {
   "cell_type": "code",
   "execution_count": 110,
   "id": "48063d45",
   "metadata": {},
   "outputs": [],
   "source": [
    " a = \"what are u doing, What Are U doing\""
   ]
  },
  {
   "cell_type": "code",
   "execution_count": 111,
   "id": "756b1035",
   "metadata": {},
   "outputs": [
    {
     "data": {
      "text/plain": [
       "'what are u doing, What Are U doing'"
      ]
     },
     "execution_count": 111,
     "metadata": {},
     "output_type": "execute_result"
    }
   ],
   "source": [
    "a"
   ]
  },
  {
   "cell_type": "markdown",
   "id": "bede4ee4",
   "metadata": {},
   "source": [
    ".count()"
   ]
  },
  {
   "cell_type": "code",
   "execution_count": 113,
   "id": "3178749e",
   "metadata": {},
   "outputs": [
    {
     "data": {
      "text/plain": [
       "1"
      ]
     },
     "execution_count": 113,
     "metadata": {},
     "output_type": "execute_result"
    }
   ],
   "source": [
    "a.count(\"are\") # how many times it appears ,  its case sensitive also"
   ]
  },
  {
   "cell_type": "code",
   "execution_count": 114,
   "id": "7e045c52",
   "metadata": {},
   "outputs": [
    {
     "data": {
      "text/plain": [
       "'what are u doing, What Are U doing'"
      ]
     },
     "execution_count": 114,
     "metadata": {},
     "output_type": "execute_result"
    }
   ],
   "source": [
    "a"
   ]
  },
  {
   "cell_type": "markdown",
   "id": "ae2d8f3e",
   "metadata": {},
   "source": [
    ".split()\n"
   ]
  },
  {
   "cell_type": "code",
   "execution_count": 118,
   "id": "31ab63f4",
   "metadata": {},
   "outputs": [
    {
     "data": {
      "text/plain": [
       "['what', 'are', 'u', 'doing,', 'What', 'Are', 'U', 'doing']"
      ]
     },
     "execution_count": 118,
     "metadata": {},
     "output_type": "execute_result"
    }
   ],
   "source": [
    "a.split() # it will convert and split inform of list"
   ]
  },
  {
   "cell_type": "code",
   "execution_count": 120,
   "id": "be17c8fb",
   "metadata": {},
   "outputs": [
    {
     "data": {
      "text/plain": [
       "['what are u doing', ' What Are U doing']"
      ]
     },
     "execution_count": 120,
     "metadata": {},
     "output_type": "execute_result"
    }
   ],
   "source": [
    "a.split(',') # when it will find comma it will split it"
   ]
  },
  {
   "cell_type": "code",
   "execution_count": 123,
   "id": "e683af2a",
   "metadata": {},
   "outputs": [
    {
     "data": {
      "text/plain": [
       "['what are u doi', 'g, What Are U doi', 'g']"
      ]
     },
     "execution_count": 123,
     "metadata": {},
     "output_type": "execute_result"
    }
   ],
   "source": [
    "a.split('n')# here it split on base of n"
   ]
  },
  {
   "cell_type": "code",
   "execution_count": 125,
   "id": "ab6bce4b",
   "metadata": {},
   "outputs": [
    {
     "data": {
      "text/plain": [
       "['', 'at are u doing, What Are U doing']"
      ]
     },
     "execution_count": 125,
     "metadata": {},
     "output_type": "execute_result"
    }
   ],
   "source": [
    "a.split('wh')"
   ]
  },
  {
   "cell_type": "code",
   "execution_count": 128,
   "id": "dc187451",
   "metadata": {},
   "outputs": [
    {
     "data": {
      "text/plain": [
       "list"
      ]
     },
     "execution_count": 128,
     "metadata": {},
     "output_type": "execute_result"
    }
   ],
   "source": [
    "type(a.split('wh'))# the return will be list"
   ]
  },
  {
   "cell_type": "markdown",
   "id": "7d811465",
   "metadata": {},
   "source": [
    ".upper()"
   ]
  },
  {
   "cell_type": "code",
   "execution_count": 129,
   "id": "12dfea09",
   "metadata": {},
   "outputs": [
    {
     "data": {
      "text/plain": [
       "'what are u doing, What Are U doing'"
      ]
     },
     "execution_count": 129,
     "metadata": {},
     "output_type": "execute_result"
    }
   ],
   "source": [
    "a"
   ]
  },
  {
   "cell_type": "code",
   "execution_count": 131,
   "id": "6f1a8f8b",
   "metadata": {},
   "outputs": [
    {
     "data": {
      "text/plain": [
       "'WHAT ARE U DOING, WHAT ARE U DOING'"
      ]
     },
     "execution_count": 131,
     "metadata": {},
     "output_type": "execute_result"
    }
   ],
   "source": [
    "a.upper()"
   ]
  },
  {
   "cell_type": "code",
   "execution_count": 132,
   "id": "daceab4e",
   "metadata": {},
   "outputs": [
    {
     "data": {
      "text/plain": [
       "'what are u doing, what are u doing'"
      ]
     },
     "execution_count": 132,
     "metadata": {},
     "output_type": "execute_result"
    }
   ],
   "source": [
    "a.lower()"
   ]
  },
  {
   "cell_type": "markdown",
   "id": "d7903db1",
   "metadata": {},
   "source": [
    ".swapcase()"
   ]
  },
  {
   "cell_type": "code",
   "execution_count": 134,
   "id": "e8e9bb3a",
   "metadata": {},
   "outputs": [
    {
     "data": {
      "text/plain": [
       "'WHAT ARE U DOING, wHAT aRE u DOING'"
      ]
     },
     "execution_count": 134,
     "metadata": {},
     "output_type": "execute_result"
    }
   ],
   "source": [
    "a.swapcase()#change lower into upper and upper into lower"
   ]
  },
  {
   "cell_type": "code",
   "execution_count": 135,
   "id": "f939b6ea",
   "metadata": {},
   "outputs": [
    {
     "data": {
      "text/plain": [
       "'w h a t   a r e   u   d o i n g ,   W h a t   A r e   U   d o i n g'"
      ]
     },
     "execution_count": 135,
     "metadata": {},
     "output_type": "execute_result"
    }
   ],
   "source": [
    "\" \".join(a)"
   ]
  },
  {
   "cell_type": "code",
   "execution_count": 138,
   "id": "cf474a09",
   "metadata": {},
   "outputs": [
    {
     "data": {
      "text/plain": [
       "'what are u doing, What Are U doing'"
      ]
     },
     "execution_count": 138,
     "metadata": {},
     "output_type": "execute_result"
    }
   ],
   "source": [
    "a"
   ]
  },
  {
   "cell_type": "markdown",
   "id": "0b7ace73",
   "metadata": {},
   "source": [
    ".reversed()"
   ]
  },
  {
   "cell_type": "code",
   "execution_count": 139,
   "id": "806ebe32",
   "metadata": {},
   "outputs": [
    {
     "data": {
      "text/plain": [
       "'gniod U erA tahW ,gniod u era tahw'"
      ]
     },
     "execution_count": 139,
     "metadata": {},
     "output_type": "execute_result"
    }
   ],
   "source": [
    "a[::-1]"
   ]
  },
  {
   "cell_type": "code",
   "execution_count": 141,
   "id": "3cd79c0e",
   "metadata": {},
   "outputs": [
    {
     "name": "stdout",
     "output_type": "stream",
     "text": [
      "g\n",
      "n\n",
      "i\n",
      "o\n",
      "d\n",
      " \n",
      "U\n",
      " \n",
      "e\n",
      "r\n",
      "A\n",
      " \n",
      "t\n",
      "a\n",
      "h\n",
      "W\n",
      " \n",
      ",\n",
      "g\n",
      "n\n",
      "i\n",
      "o\n",
      "d\n",
      " \n",
      "u\n",
      " \n",
      "e\n",
      "r\n",
      "a\n",
      " \n",
      "t\n",
      "a\n",
      "h\n",
      "w\n"
     ]
    }
   ],
   "source": [
    "for i in reversed(a):\n",
    "    print(i)"
   ]
  },
  {
   "cell_type": "markdown",
   "id": "e6a4432f",
   "metadata": {},
   "source": [
    ".strip()"
   ]
  },
  {
   "cell_type": "code",
   "execution_count": 144,
   "id": "31020595",
   "metadata": {},
   "outputs": [
    {
     "data": {
      "text/plain": [
       "'     khan'"
      ]
     },
     "execution_count": 144,
     "metadata": {},
     "output_type": "execute_result"
    }
   ],
   "source": [
    "x = \"     khan\"\n",
    "x"
   ]
  },
  {
   "cell_type": "code",
   "execution_count": 146,
   "id": "3356ef64",
   "metadata": {},
   "outputs": [
    {
     "data": {
      "text/plain": [
       "'khan'"
      ]
     },
     "execution_count": 146,
     "metadata": {},
     "output_type": "execute_result"
    }
   ],
   "source": [
    "x.strip()"
   ]
  },
  {
   "cell_type": "code",
   "execution_count": 147,
   "id": "d69e14de",
   "metadata": {},
   "outputs": [
    {
     "data": {
      "text/plain": [
       "'   k   han'"
      ]
     },
     "execution_count": 147,
     "metadata": {},
     "output_type": "execute_result"
    }
   ],
   "source": [
    "n = \"   k   han\"\n",
    "n"
   ]
  },
  {
   "cell_type": "code",
   "execution_count": 149,
   "id": "a5c532fe",
   "metadata": {},
   "outputs": [
    {
     "data": {
      "text/plain": [
       "'k   han'"
      ]
     },
     "execution_count": 149,
     "metadata": {},
     "output_type": "execute_result"
    }
   ],
   "source": [
    "n.strip()# it can only remove space between str not in string"
   ]
  },
  {
   "cell_type": "markdown",
   "id": "a3f9a628",
   "metadata": {},
   "source": [
    ".lstrip()"
   ]
  },
  {
   "cell_type": "code",
   "execution_count": 152,
   "id": "f8513988",
   "metadata": {},
   "outputs": [
    {
     "data": {
      "text/plain": [
       "'k   han'"
      ]
     },
     "execution_count": 152,
     "metadata": {},
     "output_type": "execute_result"
    }
   ],
   "source": [
    "n.lstrip()"
   ]
  },
  {
   "cell_type": "code",
   "execution_count": 153,
   "id": "48acbfb0",
   "metadata": {},
   "outputs": [
    {
     "data": {
      "text/plain": [
       "'   k   han'"
      ]
     },
     "execution_count": 153,
     "metadata": {},
     "output_type": "execute_result"
    }
   ],
   "source": [
    "n.rstrip()"
   ]
  },
  {
   "cell_type": "markdown",
   "id": "20a06c3c",
   "metadata": {},
   "source": [
    ".replace()"
   ]
  },
  {
   "cell_type": "code",
   "execution_count": 157,
   "id": "662fb389",
   "metadata": {},
   "outputs": [],
   "source": [
    "s = \"how are you\""
   ]
  },
  {
   "cell_type": "code",
   "execution_count": 158,
   "id": "c1faef01",
   "metadata": {},
   "outputs": [
    {
     "data": {
      "text/plain": [
       "'how fre you'"
      ]
     },
     "execution_count": 158,
     "metadata": {},
     "output_type": "execute_result"
    }
   ],
   "source": [
    "s.replace(\"a\",\"f\")"
   ]
  },
  {
   "cell_type": "code",
   "execution_count": 161,
   "id": "f01ca860",
   "metadata": {},
   "outputs": [
    {
     "data": {
      "text/plain": [
       "'how are you'"
      ]
     },
     "execution_count": 161,
     "metadata": {},
     "output_type": "execute_result"
    }
   ],
   "source": [
    "s"
   ]
  },
  {
   "cell_type": "code",
   "execution_count": 162,
   "id": "5a5b8de5",
   "metadata": {},
   "outputs": [
    {
     "data": {
      "text/plain": [
       "'tow are you'"
      ]
     },
     "execution_count": 162,
     "metadata": {},
     "output_type": "execute_result"
    }
   ],
   "source": [
    "s.replace(\"ho\", \"to\")"
   ]
  },
  {
   "cell_type": "code",
   "execution_count": 163,
   "id": "ecc43ade",
   "metadata": {},
   "outputs": [
    {
     "data": {
      "text/plain": [
       "'how are you'"
      ]
     },
     "execution_count": 163,
     "metadata": {},
     "output_type": "execute_result"
    }
   ],
   "source": [
    "s"
   ]
  },
  {
   "cell_type": "code",
   "execution_count": 167,
   "id": "b26806a8",
   "metadata": {},
   "outputs": [],
   "source": [
    "s = s.replace(\"ho\", \"to\") # string is immutable but it will \n",
    "#store reconstruct on other location"
   ]
  },
  {
   "cell_type": "code",
   "execution_count": 165,
   "id": "4de82d2d",
   "metadata": {},
   "outputs": [
    {
     "data": {
      "text/plain": [
       "'tow are you'"
      ]
     },
     "execution_count": 165,
     "metadata": {},
     "output_type": "execute_result"
    }
   ],
   "source": [
    "s"
   ]
  },
  {
   "cell_type": "code",
   "execution_count": 169,
   "id": "eca81f08",
   "metadata": {},
   "outputs": [
    {
     "data": {
      "text/plain": [
       "'khan'"
      ]
     },
     "execution_count": 169,
     "metadata": {},
     "output_type": "execute_result"
    }
   ],
   "source": [
    " k = \"khan\"\n",
    "k"
   ]
  },
  {
   "cell_type": "code",
   "execution_count": 170,
   "id": "518d833c",
   "metadata": {},
   "outputs": [
    {
     "data": {
      "text/plain": [
       "'kkkkkkkkkhankkkkkkkk'"
      ]
     },
     "execution_count": 170,
     "metadata": {},
     "output_type": "execute_result"
    }
   ],
   "source": [
    "k.center(20,'k')"
   ]
  },
  {
   "cell_type": "markdown",
   "id": "179d0feb",
   "metadata": {},
   "source": [
    "### task"
   ]
  },
  {
   "cell_type": "code",
   "execution_count": 172,
   "id": "ec0f4d40",
   "metadata": {},
   "outputs": [],
   "source": [
    " a = \"we all are a part of Full Stack data science\""
   ]
  },
  {
   "cell_type": "code",
   "execution_count": 173,
   "id": "9fccab6e",
   "metadata": {},
   "outputs": [
    {
     "data": {
      "text/plain": [
       "'we all are a part of full stack data science'"
      ]
     },
     "execution_count": 173,
     "metadata": {},
     "output_type": "execute_result"
    }
   ],
   "source": [
    "a.lower()"
   ]
  },
  {
   "cell_type": "code",
   "execution_count": 174,
   "id": "c6aec068",
   "metadata": {},
   "outputs": [
    {
     "data": {
      "text/plain": [
       "1"
      ]
     },
     "execution_count": 174,
     "metadata": {},
     "output_type": "execute_result"
    }
   ],
   "source": [
    "a.count(a)"
   ]
  },
  {
   "cell_type": "code",
   "execution_count": 203,
   "id": "9df9fdc9",
   "metadata": {},
   "outputs": [
    {
     "name": "stdout",
     "output_type": "stream",
     "text": [
      "7\n"
     ]
    }
   ],
   "source": [
    "print(a.count('a'))\n",
    "        \n"
   ]
  },
  {
   "cell_type": "code",
   "execution_count": 214,
   "id": "42f9d6be",
   "metadata": {},
   "outputs": [
    {
     "name": "stdout",
     "output_type": "stream",
     "text": [
      "3\n"
     ]
    }
   ],
   "source": [
    "print(a.find(\"a\"))"
   ]
  },
  {
   "cell_type": "code",
   "execution_count": 215,
   "id": "b10cb730",
   "metadata": {},
   "outputs": [
    {
     "data": {
      "text/plain": [
       "'we all are a part of Full Stack data science'"
      ]
     },
     "execution_count": 215,
     "metadata": {},
     "output_type": "execute_result"
    }
   ],
   "source": [
    "a"
   ]
  },
  {
   "cell_type": "code",
   "execution_count": 224,
   "id": "e8ae5231",
   "metadata": {},
   "outputs": [
    {
     "data": {
      "text/plain": [
       "'we khanll khanre khan pkhanrt of Full Stkhanck dkhantkhan science'"
      ]
     },
     "execution_count": 224,
     "metadata": {},
     "output_type": "execute_result"
    }
   ],
   "source": [
    "a.replace('a','khan')"
   ]
  },
  {
   "cell_type": "code",
   "execution_count": 226,
   "id": "613de24b",
   "metadata": {},
   "outputs": [
    {
     "data": {
      "text/plain": [
       "['we', 'all', 'are', 'a', 'part', 'of', 'Full', 'Stack', 'data', 'science']"
      ]
     },
     "execution_count": 226,
     "metadata": {},
     "output_type": "execute_result"
    }
   ],
   "source": [
    "a.split()"
   ]
  },
  {
   "cell_type": "code",
   "execution_count": 227,
   "id": "02e01487",
   "metadata": {},
   "outputs": [
    {
     "name": "stdout",
     "output_type": "stream",
     "text": [
      "3\n",
      "7\n",
      "11\n",
      "14\n",
      "28\n",
      "33\n",
      "35\n"
     ]
    }
   ],
   "source": [
    "for i in range(len(a)):\n",
    "    if (a[i] == \"a\"):\n",
    "        print(i)"
   ]
  },
  {
   "cell_type": "markdown",
   "id": "1afc5879",
   "metadata": {},
   "source": [
    ".isupper()"
   ]
  },
  {
   "cell_type": "code",
   "execution_count": 228,
   "id": "fed51921",
   "metadata": {},
   "outputs": [],
   "source": [
    "s = \"khan\""
   ]
  },
  {
   "cell_type": "code",
   "execution_count": 229,
   "id": "6b1aaa92",
   "metadata": {},
   "outputs": [
    {
     "data": {
      "text/plain": [
       "'khan'"
      ]
     },
     "execution_count": 229,
     "metadata": {},
     "output_type": "execute_result"
    }
   ],
   "source": [
    "s"
   ]
  },
  {
   "cell_type": "code",
   "execution_count": 230,
   "id": "1cc36ec1",
   "metadata": {},
   "outputs": [
    {
     "data": {
      "text/plain": [
       "False"
      ]
     },
     "execution_count": 230,
     "metadata": {},
     "output_type": "execute_result"
    }
   ],
   "source": [
    "s.isupper()# what ever builin fuction is start from is it iwll retur boolean"
   ]
  },
  {
   "cell_type": "code",
   "execution_count": 231,
   "id": "88ced230",
   "metadata": {},
   "outputs": [
    {
     "data": {
      "text/plain": [
       "True"
      ]
     },
     "execution_count": 231,
     "metadata": {},
     "output_type": "execute_result"
    }
   ],
   "source": [
    "s = \"KHAN\"\n",
    "s.isupper()"
   ]
  },
  {
   "cell_type": "markdown",
   "id": "47e0ecd4",
   "metadata": {},
   "source": [
    ".islower()"
   ]
  },
  {
   "cell_type": "code",
   "execution_count": 232,
   "id": "3e91004d",
   "metadata": {},
   "outputs": [
    {
     "data": {
      "text/plain": [
       "False"
      ]
     },
     "execution_count": 232,
     "metadata": {},
     "output_type": "execute_result"
    }
   ],
   "source": [
    "s.islower()"
   ]
  },
  {
   "cell_type": "markdown",
   "id": "c1fa7eb0",
   "metadata": {},
   "source": [
    ".ispace()"
   ]
  },
  {
   "cell_type": "code",
   "execution_count": 233,
   "id": "6ad1e1a3",
   "metadata": {},
   "outputs": [],
   "source": [
    "s = \"   khan\""
   ]
  },
  {
   "cell_type": "code",
   "execution_count": 234,
   "id": "55107944",
   "metadata": {},
   "outputs": [
    {
     "data": {
      "text/plain": [
       "False"
      ]
     },
     "execution_count": 234,
     "metadata": {},
     "output_type": "execute_result"
    }
   ],
   "source": [
    "s.isspace()"
   ]
  },
  {
   "cell_type": "code",
   "execution_count": 235,
   "id": "0cddbcc4",
   "metadata": {},
   "outputs": [
    {
     "data": {
      "text/plain": [
       "True"
      ]
     },
     "execution_count": 235,
     "metadata": {},
     "output_type": "execute_result"
    }
   ],
   "source": [
    "s = \"  \"\n",
    "s.isspace()"
   ]
  },
  {
   "cell_type": "markdown",
   "id": "3ac4530f",
   "metadata": {},
   "source": [
    ".isdigit()"
   ]
  },
  {
   "cell_type": "code",
   "execution_count": 238,
   "id": "af87dde6",
   "metadata": {},
   "outputs": [
    {
     "data": {
      "text/plain": [
       "False"
      ]
     },
     "execution_count": 238,
     "metadata": {},
     "output_type": "execute_result"
    }
   ],
   "source": [
    "s.isdigit()"
   ]
  },
  {
   "cell_type": "markdown",
   "id": "14e1fe07",
   "metadata": {},
   "source": [
    ".endwith()"
   ]
  },
  {
   "cell_type": "code",
   "execution_count": 239,
   "id": "859806b1",
   "metadata": {},
   "outputs": [
    {
     "data": {
      "text/plain": [
       "False"
      ]
     },
     "execution_count": 239,
     "metadata": {},
     "output_type": "execute_result"
    }
   ],
   "source": [
    "s.endswith(\"s\")"
   ]
  },
  {
   "cell_type": "markdown",
   "id": "2dbf1c21",
   "metadata": {},
   "source": [
    ".startswith()"
   ]
  },
  {
   "cell_type": "code",
   "execution_count": 241,
   "id": "d9d31104",
   "metadata": {},
   "outputs": [
    {
     "data": {
      "text/plain": [
       "True"
      ]
     },
     "execution_count": 241,
     "metadata": {},
     "output_type": "execute_result"
    }
   ],
   "source": [
    "s.startswith(\" \")"
   ]
  },
  {
   "cell_type": "markdown",
   "id": "7b5fb013",
   "metadata": {},
   "source": [
    ".isalnum()"
   ]
  },
  {
   "cell_type": "code",
   "execution_count": 242,
   "id": "98c4be95",
   "metadata": {},
   "outputs": [
    {
     "data": {
      "text/plain": [
       "False"
      ]
     },
     "execution_count": 242,
     "metadata": {},
     "output_type": "execute_result"
    }
   ],
   "source": [
    "s.isalnum()"
   ]
  },
  {
   "cell_type": "markdown",
   "id": "a94e976f",
   "metadata": {},
   "source": [
    ".isalpha()"
   ]
  },
  {
   "cell_type": "code",
   "execution_count": 244,
   "id": "aa40128c",
   "metadata": {},
   "outputs": [
    {
     "data": {
      "text/plain": [
       "False"
      ]
     },
     "execution_count": 244,
     "metadata": {},
     "output_type": "execute_result"
    }
   ],
   "source": [
    "s.isalpha()"
   ]
  },
  {
   "cell_type": "markdown",
   "id": "2f0b8d6f",
   "metadata": {},
   "source": [
    ".istitle()"
   ]
  },
  {
   "cell_type": "code",
   "execution_count": 247,
   "id": "9995706d",
   "metadata": {
    "scrolled": true
   },
   "outputs": [
    {
     "data": {
      "text/plain": [
       "False"
      ]
     },
     "execution_count": 247,
     "metadata": {},
     "output_type": "execute_result"
    }
   ],
   "source": [
    "s.istitle() # is the first character is in uppercase then it will True oonly"
   ]
  },
  {
   "cell_type": "code",
   "execution_count": 248,
   "id": "57c7941e",
   "metadata": {},
   "outputs": [],
   "source": [
    "e = \"this is full stack practice\""
   ]
  },
  {
   "cell_type": "code",
   "execution_count": 249,
   "id": "d2508238",
   "metadata": {},
   "outputs": [
    {
     "name": "stdout",
     "output_type": "stream",
     "text": [
      "t\n",
      "h\n",
      "i\n",
      "s\n",
      " \n",
      "i\n",
      "s\n",
      " \n",
      "f\n",
      "u\n",
      "l\n",
      "l\n",
      " \n",
      "s\n",
      "t\n",
      "a\n",
      "c\n",
      "k\n",
      " \n",
      "p\n",
      "r\n",
      "a\n",
      "c\n",
      "t\n",
      "i\n",
      "c\n",
      "e\n"
     ]
    }
   ],
   "source": [
    "for i in e :\n",
    "    print(i)"
   ]
  },
  {
   "cell_type": "code",
   "execution_count": 251,
   "id": "09d6cb87",
   "metadata": {},
   "outputs": [
    {
     "data": {
      "text/plain": [
       "27"
      ]
     },
     "execution_count": 251,
     "metadata": {},
     "output_type": "execute_result"
    }
   ],
   "source": [
    "len(e)"
   ]
  },
  {
   "cell_type": "code",
   "execution_count": null,
   "id": "7338d7d3",
   "metadata": {},
   "outputs": [],
   "source": [
    "#we can also write in this way to check lenght"
   ]
  },
  {
   "cell_type": "code",
   "execution_count": 255,
   "id": "e12a8082",
   "metadata": {},
   "outputs": [
    {
     "name": "stdout",
     "output_type": "stream",
     "text": [
      "27\n"
     ]
    }
   ],
   "source": [
    "count = 0\n",
    "for  i in e:\n",
    "    count = count + 1\n",
    "print(count)"
   ]
  },
  {
   "cell_type": "code",
   "execution_count": 259,
   "id": "38411eed",
   "metadata": {},
   "outputs": [
    {
     "name": "stdout",
     "output_type": "stream",
     "text": [
      "e\n",
      "c\n",
      "i\n",
      "t\n",
      "c\n",
      "a\n",
      "r\n",
      "p\n",
      " \n",
      "k\n",
      "c\n",
      "a\n",
      "t\n",
      "s\n",
      " \n",
      "l\n",
      "l\n",
      "u\n",
      "f\n",
      " \n",
      "s\n",
      "i\n",
      " \n",
      "s\n",
      "i\n",
      "h\n"
     ]
    }
   ],
   "source": [
    "for i in range(1, len(e)):\n",
    "    print(e[-i])# for reverse"
   ]
  },
  {
   "cell_type": "code",
   "execution_count": 260,
   "id": "ebe42400",
   "metadata": {},
   "outputs": [
    {
     "name": "stdout",
     "output_type": "stream",
     "text": [
      "n\n",
      "a\n",
      "h\n",
      "k\n"
     ]
    }
   ],
   "source": [
    "s = \"khan\"\n",
    "ch = len(s)-1\n",
    "while ch>= 0 :\n",
    "    print(s[ch])\n",
    "    ch = ch-1"
   ]
  },
  {
   "cell_type": "code",
   "execution_count": 268,
   "id": "66a4bcbe",
   "metadata": {},
   "outputs": [
    {
     "name": "stdout",
     "output_type": "stream",
     "text": [
      "k is not a vowels\n",
      "h is not a vowels\n",
      "a is a vowels\n",
      "n is not a vowels\n",
      "E is a vowels\n",
      "e is not a vowels\n"
     ]
    }
   ],
   "source": [
    "name = \"khanEe\"\n",
    "vowels = \"AaEioOuu\"\n",
    "for i in name:\n",
    "    if i in vowels:\n",
    "        print(\"{} is a vowels\".format(i))\n",
    "    else:\n",
    "        print(\"{} is not a vowels\".format(i))"
   ]
  },
  {
   "cell_type": "code",
   "execution_count": 269,
   "id": "39332eff",
   "metadata": {},
   "outputs": [
    {
     "data": {
      "text/plain": [
       "'my name is khan'"
      ]
     },
     "execution_count": 269,
     "metadata": {},
     "output_type": "execute_result"
    }
   ],
   "source": [
    "\"{} name is khan\".format(\"my\")"
   ]
  },
  {
   "cell_type": "code",
   "execution_count": 270,
   "id": "ade9fbd6",
   "metadata": {},
   "outputs": [
    {
     "data": {
      "text/plain": [
       "'my name is khan'"
      ]
     },
     "execution_count": 270,
     "metadata": {},
     "output_type": "execute_result"
    }
   ],
   "source": [
    "\"{} name {} khan\".format(\"my\",\"is\")"
   ]
  },
  {
   "cell_type": "code",
   "execution_count": 276,
   "id": "51f49601",
   "metadata": {},
   "outputs": [
    {
     "name": "stdout",
     "output_type": "stream",
     "text": [
      "my\n",
      "is\n"
     ]
    },
    {
     "data": {
      "text/plain": [
       "'my name is khan'"
      ]
     },
     "execution_count": 276,
     "metadata": {},
     "output_type": "execute_result"
    }
   ],
   "source": [
    "a = input()\n",
    "b = input()\n",
    "\"{} name {} khan\".format(a,b)"
   ]
  },
  {
   "cell_type": "code",
   "execution_count": 278,
   "id": "0320d4ed",
   "metadata": {},
   "outputs": [
    {
     "name": "stdout",
     "output_type": "stream",
     "text": [
      "ma\n",
      "is\n"
     ]
    },
    {
     "ename": "IndexError",
     "evalue": "Replacement index 2 out of range for positional args tuple",
     "output_type": "error",
     "traceback": [
      "\u001b[0;31m---------------------------------------------------------------------------\u001b[0m",
      "\u001b[0;31mIndexError\u001b[0m                                Traceback (most recent call last)",
      "Input \u001b[0;32mIn [278]\u001b[0m, in \u001b[0;36m<cell line: 3>\u001b[0;34m()\u001b[0m\n\u001b[1;32m      1\u001b[0m a \u001b[38;5;241m=\u001b[39m \u001b[38;5;28minput\u001b[39m()\n\u001b[1;32m      2\u001b[0m b \u001b[38;5;241m=\u001b[39m \u001b[38;5;28minput\u001b[39m()\n\u001b[0;32m----> 3\u001b[0m \u001b[38;5;124;43m\"\u001b[39;49m\u001b[38;5;132;43;01m{}\u001b[39;49;00m\u001b[38;5;124;43m name \u001b[39;49m\u001b[38;5;132;43;01m{}\u001b[39;49;00m\u001b[38;5;124;43m khan  \u001b[39;49m\u001b[38;5;132;43;01m{}\u001b[39;49;00m\u001b[38;5;124;43m you\u001b[39;49m\u001b[38;5;124;43m\"\u001b[39;49m\u001b[38;5;241;43m.\u001b[39;49m\u001b[43mformat\u001b[49m\u001b[43m(\u001b[49m\u001b[43ma\u001b[49m\u001b[43m,\u001b[49m\u001b[43mb\u001b[49m\u001b[43m)\u001b[49m\n",
      "\u001b[0;31mIndexError\u001b[0m: Replacement index 2 out of range for positional args tuple"
     ]
    }
   ],
   "source": [
    "a = input()\n",
    "b = input()\n",
    "\"{} name {} khan  {} you\".format(a,b) # give error because it expecting for 3rd{}\n",
    "# to be filled but we only give a , b"
   ]
  },
  {
   "cell_type": "code",
   "execution_count": 280,
   "id": "2c8be4da",
   "metadata": {},
   "outputs": [
    {
     "name": "stdout",
     "output_type": "stream",
     "text": [
      "my \n",
      "is\n"
     ]
    },
    {
     "data": {
      "text/plain": [
       "'my  name is khan hiiiiiiiiiiyes'"
      ]
     },
     "execution_count": 280,
     "metadata": {},
     "output_type": "execute_result"
    }
   ],
   "source": [
    "a = input()\n",
    "b = input()\n",
    "\"{} name {} khan {}yes\".format(a,b,\"hiiiiiiiiii\")"
   ]
  },
  {
   "cell_type": "code",
   "execution_count": 282,
   "id": "77edabd8",
   "metadata": {},
   "outputs": [
    {
     "name": "stdout",
     "output_type": "stream",
     "text": [
      "enter a data to check if it is pelindromjk\n",
      "its not a pelindrom\n"
     ]
    }
   ],
   "source": [
    "a = \"xyx\"\n",
    "b = \"eye\"\n",
    "c = \"mom\"\n",
    "d = 2002\n",
    "s = input(\"enter a data to check if it is pelindrom\")\n",
    "s1 = s[::-1]\n",
    "if s == s1:\n",
    "    print(\"its a pelindrom\")\n",
    "else:\n",
    "    print(\"its not a pelindrom\")"
   ]
  },
  {
   "cell_type": "markdown",
   "id": "9742bf6b",
   "metadata": {},
   "source": [
    "### LIST Manipulation"
   ]
  },
  {
   "cell_type": "code",
   "execution_count": 284,
   "id": "1d746dcc",
   "metadata": {},
   "outputs": [],
   "source": [
    "l = [\"khan\",234,\"books\",[12,23,4]]# a list can hold hetrogenous elements\n"
   ]
  },
  {
   "cell_type": "code",
   "execution_count": 286,
   "id": "bc3a5a62",
   "metadata": {},
   "outputs": [
    {
     "data": {
      "text/plain": [
       "[12, 23, 4]"
      ]
     },
     "execution_count": 286,
     "metadata": {},
     "output_type": "execute_result"
    }
   ],
   "source": [
    "l[3]"
   ]
  },
  {
   "cell_type": "code",
   "execution_count": 288,
   "id": "76ccd23b",
   "metadata": {},
   "outputs": [
    {
     "data": {
      "text/plain": [
       "['khan', 234, 'books']"
      ]
     },
     "execution_count": 288,
     "metadata": {},
     "output_type": "execute_result"
    }
   ],
   "source": [
    "l[0:3]"
   ]
  },
  {
   "cell_type": "code",
   "execution_count": 290,
   "id": "5ec6745a",
   "metadata": {},
   "outputs": [
    {
     "data": {
      "text/plain": [
       "[[12, 23, 4], 'books', 234]"
      ]
     },
     "execution_count": 290,
     "metadata": {},
     "output_type": "execute_result"
    }
   ],
   "source": [
    "l[3:0:-1]"
   ]
  },
  {
   "cell_type": "code",
   "execution_count": 292,
   "id": "18aabb15",
   "metadata": {},
   "outputs": [
    {
     "data": {
      "text/plain": [
       "[[12, 23, 4], 'books', 234, 'khan']"
      ]
     },
     "execution_count": 292,
     "metadata": {},
     "output_type": "execute_result"
    }
   ],
   "source": [
    "l[::-1]#reverse a data"
   ]
  },
  {
   "cell_type": "code",
   "execution_count": 293,
   "id": "419ae3c6",
   "metadata": {},
   "outputs": [],
   "source": [
    "# we can use forloop also same as string to reverse"
   ]
  },
  {
   "cell_type": "code",
   "execution_count": 294,
   "id": "72f3ba75",
   "metadata": {},
   "outputs": [
    {
     "data": {
      "text/plain": [
       "['khan', 234, 'books', [12, 23, 4]]"
      ]
     },
     "execution_count": 294,
     "metadata": {},
     "output_type": "execute_result"
    }
   ],
   "source": [
    "l"
   ]
  },
  {
   "cell_type": "code",
   "execution_count": 295,
   "id": "5d191dc4",
   "metadata": {},
   "outputs": [],
   "source": [
    "s = \"shayan\""
   ]
  },
  {
   "cell_type": "code",
   "execution_count": 297,
   "id": "060cb867",
   "metadata": {},
   "outputs": [
    {
     "ename": "TypeError",
     "evalue": "can only concatenate list (not \"str\") to list",
     "output_type": "error",
     "traceback": [
      "\u001b[0;31m---------------------------------------------------------------------------\u001b[0m",
      "\u001b[0;31mTypeError\u001b[0m                                 Traceback (most recent call last)",
      "Input \u001b[0;32mIn [297]\u001b[0m, in \u001b[0;36m<cell line: 1>\u001b[0;34m()\u001b[0m\n\u001b[0;32m----> 1\u001b[0m \u001b[43ml\u001b[49m\u001b[38;5;241;43m+\u001b[39;49m\u001b[43ms\u001b[49m\n",
      "\u001b[0;31mTypeError\u001b[0m: can only concatenate list (not \"str\") to list"
     ]
    }
   ],
   "source": [
    "l+s  # s should be also as a list to concatenate"
   ]
  },
  {
   "cell_type": "code",
   "execution_count": 309,
   "id": "6ba03550",
   "metadata": {},
   "outputs": [
    {
     "data": {
      "text/plain": [
       "['khan', 234, 'books', [12, 23, 4]]"
      ]
     },
     "execution_count": 309,
     "metadata": {},
     "output_type": "execute_result"
    }
   ],
   "source": [
    "l"
   ]
  },
  {
   "cell_type": "code",
   "execution_count": 314,
   "id": "f9e94507",
   "metadata": {},
   "outputs": [],
   "source": [
    "s = \"shayan\""
   ]
  },
  {
   "cell_type": "code",
   "execution_count": 312,
   "id": "c8804542",
   "metadata": {},
   "outputs": [
    {
     "data": {
      "text/plain": [
       "['khan',\n",
       " 234,\n",
       " 'books',\n",
       " [12, 23, 4],\n",
       " '[',\n",
       " \"'\",\n",
       " 's',\n",
       " \"'\",\n",
       " ',',\n",
       " ' ',\n",
       " \"'\",\n",
       " 'h',\n",
       " \"'\",\n",
       " ',',\n",
       " ' ',\n",
       " \"'\",\n",
       " 'a',\n",
       " \"'\",\n",
       " ',',\n",
       " ' ',\n",
       " \"'\",\n",
       " 'y',\n",
       " \"'\",\n",
       " ',',\n",
       " ' ',\n",
       " \"'\",\n",
       " 'a',\n",
       " \"'\",\n",
       " ',',\n",
       " ' ',\n",
       " \"'\",\n",
       " 'n',\n",
       " \"'\",\n",
       " ']']"
      ]
     },
     "execution_count": 312,
     "metadata": {},
     "output_type": "execute_result"
    }
   ],
   "source": [
    "l + s"
   ]
  },
  {
   "cell_type": "code",
   "execution_count": 315,
   "id": "cdf0fb3c",
   "metadata": {},
   "outputs": [],
   "source": [
    "s = list(s)"
   ]
  },
  {
   "cell_type": "code",
   "execution_count": 316,
   "id": "69f4112a",
   "metadata": {},
   "outputs": [
    {
     "data": {
      "text/plain": [
       "['khan', 234, 'books', [12, 23, 4], 's', 'h', 'a', 'y', 'a', 'n']"
      ]
     },
     "execution_count": 316,
     "metadata": {},
     "output_type": "execute_result"
    }
   ],
   "source": [
    "l+s"
   ]
  },
  {
   "cell_type": "code",
   "execution_count": 319,
   "id": "bea1d004",
   "metadata": {},
   "outputs": [],
   "source": [
    "s1 = [\"shayan\"] # we have to chance variable into list first"
   ]
  },
  {
   "cell_type": "code",
   "execution_count": 318,
   "id": "3f5ea4ce",
   "metadata": {},
   "outputs": [
    {
     "data": {
      "text/plain": [
       "['khan', 234, 'books', [12, 23, 4], 'shayan']"
      ]
     },
     "execution_count": 318,
     "metadata": {},
     "output_type": "execute_result"
    }
   ],
   "source": [
    "l + s1"
   ]
  },
  {
   "cell_type": "code",
   "execution_count": 322,
   "id": "2ec595a4",
   "metadata": {},
   "outputs": [
    {
     "data": {
      "text/plain": [
       "['khan', 234, 'books', [12, 23, 4], 'khan', 234, 'books', [12, 23, 4]]"
      ]
     },
     "execution_count": 322,
     "metadata": {},
     "output_type": "execute_result"
    }
   ],
   "source": [
    "l * 2"
   ]
  },
  {
   "cell_type": "code",
   "execution_count": 326,
   "id": "a1fff55c",
   "metadata": {},
   "outputs": [
    {
     "data": {
      "text/plain": [
       "4"
      ]
     },
     "execution_count": 326,
     "metadata": {},
     "output_type": "execute_result"
    }
   ],
   "source": [
    "len(l)"
   ]
  },
  {
   "cell_type": "code",
   "execution_count": 327,
   "id": "beae188a",
   "metadata": {},
   "outputs": [
    {
     "data": {
      "text/plain": [
       "['khan', 234, 'books', [12, 23, 4]]"
      ]
     },
     "execution_count": 327,
     "metadata": {},
     "output_type": "execute_result"
    }
   ],
   "source": [
    "l"
   ]
  },
  {
   "cell_type": "code",
   "execution_count": 328,
   "id": "1438bfac",
   "metadata": {},
   "outputs": [
    {
     "data": {
      "text/plain": [
       "True"
      ]
     },
     "execution_count": 328,
     "metadata": {},
     "output_type": "execute_result"
    }
   ],
   "source": [
    "\"books\" in l"
   ]
  },
  {
   "cell_type": "code",
   "execution_count": 329,
   "id": "7fbea54b",
   "metadata": {},
   "outputs": [
    {
     "data": {
      "text/plain": [
       "False"
      ]
     },
     "execution_count": 329,
     "metadata": {},
     "output_type": "execute_result"
    }
   ],
   "source": [
    "423 in l"
   ]
  },
  {
   "cell_type": "code",
   "execution_count": 332,
   "id": "d46f16a1",
   "metadata": {},
   "outputs": [
    {
     "data": {
      "text/plain": [
       "True"
      ]
     },
     "execution_count": 332,
     "metadata": {},
     "output_type": "execute_result"
    }
   ],
   "source": [
    "\"khan\" in l"
   ]
  }
 ],
 "metadata": {
  "kernelspec": {
   "display_name": "Python 3 (ipykernel)",
   "language": "python",
   "name": "python3"
  },
  "language_info": {
   "codemirror_mode": {
    "name": "ipython",
    "version": 3
   },
   "file_extension": ".py",
   "mimetype": "text/x-python",
   "name": "python",
   "nbconvert_exporter": "python",
   "pygments_lexer": "ipython3",
   "version": "3.9.12"
  }
 },
 "nbformat": 4,
 "nbformat_minor": 5
}
